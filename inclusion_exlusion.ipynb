{
 "cells": [
  {
   "cell_type": "code",
   "execution_count": 2,
   "id": "3f6286cb-0d95-496e-8678-a325acedca59",
   "metadata": {},
   "outputs": [
    {
     "name": "stdout",
     "output_type": "stream",
     "text": [
      "Collecting https://s3-us-west-2.amazonaws.com/ai2-s2-scispacy/releases/v0.5.1/en_core_sci_lg-0.5.1.tar.gz\n",
      "  Downloading https://s3-us-west-2.amazonaws.com/ai2-s2-scispacy/releases/v0.5.1/en_core_sci_lg-0.5.1.tar.gz (532.3 MB)\n",
      "\u001b[2K     \u001b[90m━━━━━━━━━━━━━━━━━━━━━━━━━━━━━━━━━━━━━\u001b[0m \u001b[32m532.3/532.3 MB\u001b[0m \u001b[31m570.6 kB/s\u001b[0m eta \u001b[36m0:00:00\u001b[0m00:01\u001b[0m00:25\u001b[0m\n",
      "\u001b[?25h  Preparing metadata (setup.py) ... \u001b[?25ldone\n",
      "\u001b[?25hRequirement already satisfied: spacy in /usr/local/lib/python3.9/dist-packages (3.4.1)\n",
      "Collecting stanza\n",
      "  Downloading stanza-1.5.0-py3-none-any.whl (802 kB)\n",
      "\u001b[2K     \u001b[90m━━━━━━━━━━━━━━━━━━━━━━━━━━━━━━━━━━━━━━\u001b[0m \u001b[32m802.5/802.5 kB\u001b[0m \u001b[31m45.0 MB/s\u001b[0m eta \u001b[36m0:00:00\u001b[0m\n",
      "\u001b[?25hCollecting spacy_stanza\n",
      "  Downloading spacy_stanza-1.0.3-py3-none-any.whl (9.7 kB)\n",
      "Collecting scispacy\n",
      "  Downloading scispacy-0.5.2-py3-none-any.whl (45 kB)\n",
      "\u001b[2K     \u001b[90m━━━━━━━━━━━━━━━━━━━━━━━━━━━━━━━━━━━━━━━━\u001b[0m \u001b[32m45.1/45.1 kB\u001b[0m \u001b[31m9.5 MB/s\u001b[0m eta \u001b[36m0:00:00\u001b[0m\n",
      "\u001b[?25hCollecting negspacy\n",
      "  Downloading negspacy-1.0.4.tar.gz (13 kB)\n",
      "  Installing build dependencies ... \u001b[?25ldone\n",
      "\u001b[?25h  Getting requirements to build wheel ... \u001b[?25ldone\n",
      "\u001b[?25h  Installing backend dependencies ... \u001b[?25ldone\n",
      "\u001b[?25h  Preparing metadata (pyproject.toml) ... \u001b[?25ldone\n",
      "\u001b[?25hRequirement already satisfied: setuptools in /usr/local/lib/python3.9/dist-packages (from spacy) (66.1.1)\n",
      "Requirement already satisfied: requests<3.0.0,>=2.13.0 in /usr/local/lib/python3.9/dist-packages (from spacy) (2.28.2)\n",
      "Requirement already satisfied: pathy>=0.3.5 in /usr/local/lib/python3.9/dist-packages (from spacy) (0.10.1)\n",
      "Requirement already satisfied: preshed<3.1.0,>=3.0.2 in /usr/local/lib/python3.9/dist-packages (from spacy) (3.0.8)\n",
      "Requirement already satisfied: numpy>=1.15.0 in /usr/local/lib/python3.9/dist-packages (from spacy) (1.23.4)\n",
      "Requirement already satisfied: tqdm<5.0.0,>=4.38.0 in /usr/local/lib/python3.9/dist-packages (from spacy) (4.64.1)\n",
      "Requirement already satisfied: langcodes<4.0.0,>=3.2.0 in /usr/local/lib/python3.9/dist-packages (from spacy) (3.3.0)\n",
      "Requirement already satisfied: pydantic!=1.8,!=1.8.1,<1.10.0,>=1.7.4 in /usr/local/lib/python3.9/dist-packages (from spacy) (1.9.2)\n",
      "Requirement already satisfied: jinja2 in /usr/local/lib/python3.9/dist-packages (from spacy) (3.1.2)\n",
      "Requirement already satisfied: murmurhash<1.1.0,>=0.28.0 in /usr/local/lib/python3.9/dist-packages (from spacy) (1.0.9)\n",
      "Requirement already satisfied: wasabi<1.1.0,>=0.9.1 in /usr/local/lib/python3.9/dist-packages (from spacy) (0.10.1)\n",
      "Requirement already satisfied: spacy-legacy<3.1.0,>=3.0.9 in /usr/local/lib/python3.9/dist-packages (from spacy) (3.0.12)\n",
      "Requirement already satisfied: thinc<8.2.0,>=8.1.0 in /usr/local/lib/python3.9/dist-packages (from spacy) (8.1.7)\n",
      "Requirement already satisfied: typer<0.5.0,>=0.3.0 in /usr/local/lib/python3.9/dist-packages (from spacy) (0.4.2)\n",
      "Requirement already satisfied: spacy-loggers<2.0.0,>=1.0.0 in /usr/local/lib/python3.9/dist-packages (from spacy) (1.0.4)\n",
      "Requirement already satisfied: srsly<3.0.0,>=2.4.3 in /usr/local/lib/python3.9/dist-packages (from spacy) (2.4.5)\n",
      "Requirement already satisfied: cymem<2.1.0,>=2.0.2 in /usr/local/lib/python3.9/dist-packages (from spacy) (2.0.7)\n",
      "Requirement already satisfied: catalogue<2.1.0,>=2.0.6 in /usr/local/lib/python3.9/dist-packages (from spacy) (2.0.8)\n",
      "Requirement already satisfied: packaging>=20.0 in /usr/local/lib/python3.9/dist-packages (from spacy) (23.0)\n",
      "Collecting emoji\n",
      "  Downloading emoji-2.8.0-py2.py3-none-any.whl (358 kB)\n",
      "\u001b[2K     \u001b[90m━━━━━━━━━━━━━━━━━━━━━━━━━━━━━━━━━━━━━━\u001b[0m \u001b[32m358.9/358.9 kB\u001b[0m \u001b[31m45.1 MB/s\u001b[0m eta \u001b[36m0:00:00\u001b[0m\n",
      "\u001b[?25hRequirement already satisfied: protobuf in /usr/local/lib/python3.9/dist-packages (from stanza) (3.19.6)\n",
      "Requirement already satisfied: six in /usr/lib/python3/dist-packages (from stanza) (1.14.0)\n",
      "Requirement already satisfied: torch>=1.3.0 in /usr/local/lib/python3.9/dist-packages (from stanza) (1.12.1+cu116)\n",
      "Collecting pysbd\n",
      "  Downloading pysbd-0.3.4-py3-none-any.whl (71 kB)\n",
      "\u001b[2K     \u001b[90m━━━━━━━━━━━━━━━━━━━━━━━━━━━━━━━━━━━━━━━━\u001b[0m \u001b[32m71.1/71.1 kB\u001b[0m \u001b[31m17.6 MB/s\u001b[0m eta \u001b[36m0:00:00\u001b[0m\n",
      "\u001b[?25hCollecting nmslib>=1.7.3.6\n",
      "  Downloading nmslib-2.1.1-cp39-cp39-manylinux2010_x86_64.whl (13.3 MB)\n",
      "\u001b[2K     \u001b[90m━━━━━━━━━━━━━━━━━━━━━━━━━━━━━━━━━━━━━━━━\u001b[0m \u001b[32m13.3/13.3 MB\u001b[0m \u001b[31m54.0 MB/s\u001b[0m eta \u001b[36m0:00:00\u001b[0m00:01\u001b[0m00:01\u001b[0m\n",
      "\u001b[?25hCollecting conllu\n",
      "  Downloading conllu-4.5.3-py2.py3-none-any.whl (16 kB)\n",
      "Requirement already satisfied: scikit-learn>=0.20.3 in /usr/local/lib/python3.9/dist-packages (from scispacy) (1.1.2)\n",
      "Requirement already satisfied: joblib in /usr/local/lib/python3.9/dist-packages (from scispacy) (1.2.0)\n",
      "Collecting pybind11<2.6.2\n",
      "  Downloading pybind11-2.6.1-py2.py3-none-any.whl (188 kB)\n",
      "\u001b[2K     \u001b[90m━━━━━━━━━━━━━━━━━━━━━━━━━━━━━━━━━━━━━━\u001b[0m \u001b[32m188.5/188.5 kB\u001b[0m \u001b[31m31.0 MB/s\u001b[0m eta \u001b[36m0:00:00\u001b[0m\n",
      "\u001b[?25hRequirement already satisfied: psutil in /usr/local/lib/python3.9/dist-packages (from nmslib>=1.7.3.6->scispacy) (5.9.4)\n",
      "Requirement already satisfied: smart-open<7.0.0,>=5.2.1 in /usr/local/lib/python3.9/dist-packages (from pathy>=0.3.5->spacy) (6.3.0)\n",
      "Requirement already satisfied: typing-extensions>=3.7.4.3 in /usr/local/lib/python3.9/dist-packages (from pydantic!=1.8,!=1.8.1,<1.10.0,>=1.7.4->spacy) (4.4.0)\n",
      "Requirement already satisfied: urllib3<1.27,>=1.21.1 in /usr/local/lib/python3.9/dist-packages (from requests<3.0.0,>=2.13.0->spacy) (1.26.14)\n",
      "Requirement already satisfied: charset-normalizer<4,>=2 in /usr/local/lib/python3.9/dist-packages (from requests<3.0.0,>=2.13.0->spacy) (2.1.1)\n",
      "Requirement already satisfied: idna<4,>=2.5 in /usr/lib/python3/dist-packages (from requests<3.0.0,>=2.13.0->spacy) (2.8)\n",
      "Requirement already satisfied: certifi>=2017.4.17 in /usr/lib/python3/dist-packages (from requests<3.0.0,>=2.13.0->spacy) (2019.11.28)\n",
      "Requirement already satisfied: threadpoolctl>=2.0.0 in /usr/local/lib/python3.9/dist-packages (from scikit-learn>=0.20.3->scispacy) (3.1.0)\n",
      "Requirement already satisfied: scipy>=1.3.2 in /usr/local/lib/python3.9/dist-packages (from scikit-learn>=0.20.3->scispacy) (1.9.2)\n",
      "Requirement already satisfied: blis<0.8.0,>=0.7.8 in /usr/local/lib/python3.9/dist-packages (from thinc<8.2.0,>=8.1.0->spacy) (0.7.9)\n",
      "Requirement already satisfied: confection<1.0.0,>=0.0.1 in /usr/local/lib/python3.9/dist-packages (from thinc<8.2.0,>=8.1.0->spacy) (0.0.4)\n",
      "Requirement already satisfied: click<9.0.0,>=7.1.1 in /usr/local/lib/python3.9/dist-packages (from typer<0.5.0,>=0.3.0->spacy) (8.1.3)\n",
      "Requirement already satisfied: MarkupSafe>=2.0 in /usr/local/lib/python3.9/dist-packages (from jinja2->spacy) (2.1.2)\n",
      "Building wheels for collected packages: negspacy, en-core-sci-lg\n",
      "  Building wheel for negspacy (pyproject.toml) ... \u001b[?25ldone\n",
      "\u001b[?25h  Created wheel for negspacy: filename=negspacy-1.0.4-py3-none-any.whl size=12535 sha256=9b116d62580ed837225d33aa283e8f4324ac3e48e416b6ef461beaa00aedea96\n",
      "  Stored in directory: /root/.cache/pip/wheels/7a/3e/67/ba92168136f80adc0ff2d853332dfc2a4a5b77582194f69121\n",
      "  Building wheel for en-core-sci-lg (setup.py) ... \u001b[?25ldone\n",
      "\u001b[?25h  Created wheel for en-core-sci-lg: filename=en_core_sci_lg-0.5.1-py3-none-any.whl size=532571818 sha256=6eb733e0337d764d3f7286814e44f14fb78c98ea6223a5323607342643843b82\n",
      "  Stored in directory: /root/.cache/pip/wheels/02/67/b1/25bd862238a1068f2e4af1125c13f7eef3929175695e26d9b1\n",
      "Successfully built negspacy en-core-sci-lg\n",
      "Installing collected packages: pysbd, pybind11, emoji, conllu, stanza, nmslib, spacy_stanza, scispacy, negspacy, en-core-sci-lg\n",
      "Successfully installed conllu-4.5.3 emoji-2.8.0 en-core-sci-lg-0.5.1 negspacy-1.0.4 nmslib-2.1.1 pybind11-2.6.1 pysbd-0.3.4 scispacy-0.5.2 spacy_stanza-1.0.3 stanza-1.5.0\n",
      "\u001b[33mWARNING: Running pip as the 'root' user can result in broken permissions and conflicting behaviour with the system package manager. It is recommended to use a virtual environment instead: https://pip.pypa.io/warnings/venv\u001b[0m\u001b[33m\n",
      "\u001b[0m"
     ]
    }
   ],
   "source": [
    "!pip install spacy stanza spacy_stanza scispacy negspacy https://s3-us-west-2.amazonaws.com/ai2-s2-scispacy/releases/v0.5.1/en_core_sci_lg-0.5.1.tar.gz"
   ]
  },
  {
   "cell_type": "code",
   "execution_count": 3,
   "id": "568f9ada-dba2-4ef4-8cc7-33d82f32b7ee",
   "metadata": {},
   "outputs": [
    {
     "name": "stderr",
     "output_type": "stream",
     "text": [
      "Your CPU supports instructions that this binary was not compiled to use: SSE3 SSE4.1 SSE4.2 AVX AVX2\n",
      "For maximum performance, you can install NMSLIB from sources \n",
      "pip install --no-binary :all: nmslib\n",
      "2023-08-16 15:49:03,385:DEBUG:urllib3.connectionpool: Starting new HTTPS connection (1): raw.githubusercontent.com:443\n",
      "2023-08-16 15:49:03,713:DEBUG:urllib3.connectionpool: https://raw.githubusercontent.com:443 \"GET /stanfordnlp/stanza-resources/main/resources_1.5.0.json HTTP/1.1\" 200 30101\n"
     ]
    },
    {
     "data": {
      "application/vnd.jupyter.widget-view+json": {
       "model_id": "42f6fe5e94d641528ce0d4b09b9fa943",
       "version_major": 2,
       "version_minor": 0
      },
      "text/plain": [
       "Downloading https://raw.githubusercontent.com/stanfordnlp/stanza-resources/main/resources_1.5.0.json:   0%|   …"
      ]
     },
     "metadata": {},
     "output_type": "display_data"
    },
    {
     "name": "stderr",
     "output_type": "stream",
     "text": [
      "2023-08-16 15:49:03 INFO: Downloading these customized packages for language: en (English)...\n",
      "=============================\n",
      "| Processor       | Package |\n",
      "-----------------------------\n",
      "| tokenize        | mimic   |\n",
      "| pos             | mimic   |\n",
      "| lemma           | mimic   |\n",
      "| depparse        | mimic   |\n",
      "| ner             | i2b2    |\n",
      "| pretrain        | mimic   |\n",
      "| backward_charlm | mimic   |\n",
      "| forward_charlm  | mimic   |\n",
      "=============================\n",
      "\n",
      "2023-08-16 15:49:03,742:INFO:stanza: Downloading these customized packages for language: en (English)...\n",
      "=============================\n",
      "| Processor       | Package |\n",
      "-----------------------------\n",
      "| tokenize        | mimic   |\n",
      "| pos             | mimic   |\n",
      "| lemma           | mimic   |\n",
      "| depparse        | mimic   |\n",
      "| ner             | i2b2    |\n",
      "| pretrain        | mimic   |\n",
      "| backward_charlm | mimic   |\n",
      "| forward_charlm  | mimic   |\n",
      "=============================\n",
      "\n",
      "2023-08-16 15:49:03,747:DEBUG:urllib3.connectionpool: Starting new HTTPS connection (1): huggingface.co:443\n",
      "2023-08-16 15:49:03,845:DEBUG:urllib3.connectionpool: https://huggingface.co:443 \"GET /stanfordnlp/stanza-en/resolve/v1.5.0/models/tokenize/mimic.pt HTTP/1.1\" 302 984\n",
      "2023-08-16 15:49:03,849:DEBUG:urllib3.connectionpool: Starting new HTTPS connection (1): cdn-lfs.huggingface.co:443\n",
      "2023-08-16 15:49:04,112:DEBUG:urllib3.connectionpool: https://cdn-lfs.huggingface.co:443 \"GET /stanfordnlp/stanza-en/8a3287c670d88ed863e8d062a55d2d55b83e9f3d798ad9e5860777d04cec4583?response-content-disposition=attachment%3B+filename*%3DUTF-8%27%27mimic.pt%3B+filename%3D%22mimic.pt%22%3B&Expires=1692459190&Policy=eyJTdGF0ZW1lbnQiOlt7IkNvbmRpdGlvbiI6eyJEYXRlTGVzc1RoYW4iOnsiQVdTOkVwb2NoVGltZSI6MTY5MjQ1OTE5MH19LCJSZXNvdXJjZSI6Imh0dHBzOi8vY2RuLWxmcy5odWdnaW5nZmFjZS5jby9zdGFuZm9yZG5scC9zdGFuemEtZW4vOGEzMjg3YzY3MGQ4OGVkODYzZThkMDYyYTU1ZDJkNTViODNlOWYzZDc5OGFkOWU1ODYwNzc3ZDA0Y2VjNDU4Mz9yZXNwb25zZS1jb250ZW50LWRpc3Bvc2l0aW9uPSoifV19&Signature=Crx8ayRJovkaKlwCxY1hhIlGyx5jDxftGSMMjZC8h9c8~Mwe4yIVuFBLVZxJKjDGKhuSZHIUqt9DOjNfvoF5klwx1scpQfwbdo2-0uzrFoegGjlptRGYOh2KHmR5syXWbqqhxXWzsNinu3kAvRIF8dgw2zJ1~EZw1xI4z~tTvk1PW5apdPNtNeK7LBWFnRg61KSp~hv7yAMKQpxhQNB51pxxKI~n2SM2Ix8RTxn8JY55y1E-OlytybjDmqSWfETwsEJOTZmV-Qd-Y87nVZwUDq~MthKMVgCTGxT1ChVtZAhcvqqaZbysk3nr4nZ2RehMCgQ-ptxmGxV4b3~umdYqKQ__&Key-Pair-Id=KVTP0A1DKRTAX HTTP/1.1\" 200 645082\n"
     ]
    },
    {
     "data": {
      "application/vnd.jupyter.widget-view+json": {
       "model_id": "2772a49d1748493ea21770ba89fb013f",
       "version_major": 2,
       "version_minor": 0
      },
      "text/plain": [
       "Downloading https://huggingface.co/stanfordnlp/stanza-en/resolve/v1.5.0/models/tokenize/mimic.pt:   0%|       …"
      ]
     },
     "metadata": {},
     "output_type": "display_data"
    },
    {
     "name": "stderr",
     "output_type": "stream",
     "text": [
      "2023-08-16 15:49:04,147:DEBUG:urllib3.connectionpool: Starting new HTTPS connection (1): huggingface.co:443\n",
      "2023-08-16 15:49:04,221:DEBUG:urllib3.connectionpool: https://huggingface.co:443 \"GET /stanfordnlp/stanza-en/resolve/v1.5.0/models/pos/mimic.pt HTTP/1.1\" 302 984\n",
      "2023-08-16 15:49:04,224:DEBUG:urllib3.connectionpool: Starting new HTTPS connection (1): cdn-lfs.huggingface.co:443\n",
      "2023-08-16 15:49:04,264:DEBUG:urllib3.connectionpool: https://cdn-lfs.huggingface.co:443 \"GET /stanfordnlp/stanza-en/3bbb4d1d516af9e43b065f0c8dbb72cdc874bf3986df710c86bf3c519821854e?response-content-disposition=attachment%3B+filename*%3DUTF-8%27%27mimic.pt%3B+filename%3D%22mimic.pt%22%3B&Expires=1692459997&Policy=eyJTdGF0ZW1lbnQiOlt7IkNvbmRpdGlvbiI6eyJEYXRlTGVzc1RoYW4iOnsiQVdTOkVwb2NoVGltZSI6MTY5MjQ1OTk5N319LCJSZXNvdXJjZSI6Imh0dHBzOi8vY2RuLWxmcy5odWdnaW5nZmFjZS5jby9zdGFuZm9yZG5scC9zdGFuemEtZW4vM2JiYjRkMWQ1MTZhZjllNDNiMDY1ZjBjOGRiYjcyY2RjODc0YmYzOTg2ZGY3MTBjODZiZjNjNTE5ODIxODU0ZT9yZXNwb25zZS1jb250ZW50LWRpc3Bvc2l0aW9uPSoifV19&Signature=gByQvKvfjZVFy-hRgjYGdKaaTTk5cwKfT7VSq0ugVOYRmTzB9CRsuTuqhEDzX6fWZn4KzChCodYUZv0XkS6H~wMv80B3o~R1o49wRbxKRl~dAaYeuUKyIkCtM7Kg3aVTo7Z9x92TV5bvNavxyrv0R215YIlXbhAPQ5BLAcsJkiN2N93Dcb6T2MPUuGGS2T2X1hR3ElOIQ1pqzD~kkAAKYrp6reJLf9y4Nc6sujBq4BjJPZ2VvrHpgtcxDKIgqZyR73KDqFn8vQ6knU6w2TQ~dNGYp3Ca-Z71fZsQBCfWgm1wWv~NdMoyw0ulCmeEBuwT8O2qHUw~DB7RcT7lyvuwbA__&Key-Pair-Id=KVTP0A1DKRTAX HTTP/1.1\" 200 39157402\n"
     ]
    },
    {
     "data": {
      "application/vnd.jupyter.widget-view+json": {
       "model_id": "6f91f789184a49ee8863e5ced88af510",
       "version_major": 2,
       "version_minor": 0
      },
      "text/plain": [
       "Downloading https://huggingface.co/stanfordnlp/stanza-en/resolve/v1.5.0/models/pos/mimic.pt:   0%|          | …"
      ]
     },
     "metadata": {},
     "output_type": "display_data"
    },
    {
     "name": "stderr",
     "output_type": "stream",
     "text": [
      "2023-08-16 15:49:04,618:DEBUG:urllib3.connectionpool: Starting new HTTPS connection (1): huggingface.co:443\n",
      "2023-08-16 15:49:04,677:DEBUG:urllib3.connectionpool: https://huggingface.co:443 \"GET /stanfordnlp/stanza-en/resolve/v1.5.0/models/lemma/mimic.pt HTTP/1.1\" 302 984\n",
      "2023-08-16 15:49:04,683:DEBUG:urllib3.connectionpool: Starting new HTTPS connection (1): cdn-lfs.huggingface.co:443\n",
      "2023-08-16 15:49:04,786:DEBUG:urllib3.connectionpool: https://cdn-lfs.huggingface.co:443 \"GET /stanfordnlp/stanza-en/c4fcee677057a77f61cdeb802724b496853e0b6fadbdb9b6c4bb50c8f17d03c2?response-content-disposition=attachment%3B+filename*%3DUTF-8%27%27mimic.pt%3B+filename%3D%22mimic.pt%22%3B&Expires=1692458177&Policy=eyJTdGF0ZW1lbnQiOlt7IkNvbmRpdGlvbiI6eyJEYXRlTGVzc1RoYW4iOnsiQVdTOkVwb2NoVGltZSI6MTY5MjQ1ODE3N319LCJSZXNvdXJjZSI6Imh0dHBzOi8vY2RuLWxmcy5odWdnaW5nZmFjZS5jby9zdGFuZm9yZG5scC9zdGFuemEtZW4vYzRmY2VlNjc3MDU3YTc3ZjYxY2RlYjgwMjcyNGI0OTY4NTNlMGI2ZmFkYmRiOWI2YzRiYjUwYzhmMTdkMDNjMj9yZXNwb25zZS1jb250ZW50LWRpc3Bvc2l0aW9uPSoifV19&Signature=ud-oIuHC2uAma1izdFfTgV93Qygsdj6-zhIn19E2BG49o7mNbOuF9ke4cf4heA0U4xsxrHbMjS5LeIIu~88y~We7BWWzoiZk1~UwDdUrfUIGEs8sMa9Z7SQp0FZdsF8oDyYti6LuBrifXvIR6o8~k~gQBu5KDEsLLSiqmt6Kt38qPfeGFaWTCvHwRXEcqtdg82RuIB0BvOxyuqdBzmDUU-7NXtHy-BlJ-36EjHR706nSTwrmaMO6PVEs1aFE623U~CVM7ptuJX4cKNjJBDdrnyubfImx~M2hCHGf0w6KSaQoA75VWnI0ME6GgE5UmefsOnPK15Y4OatprTZ9gDNpLw__&Key-Pair-Id=KVTP0A1DKRTAX HTTP/1.1\" 200 4189332\n"
     ]
    },
    {
     "data": {
      "application/vnd.jupyter.widget-view+json": {
       "model_id": "cf3d41dd8af440e7a674aee9b8f9644a",
       "version_major": 2,
       "version_minor": 0
      },
      "text/plain": [
       "Downloading https://huggingface.co/stanfordnlp/stanza-en/resolve/v1.5.0/models/lemma/mimic.pt:   0%|          …"
      ]
     },
     "metadata": {},
     "output_type": "display_data"
    },
    {
     "name": "stderr",
     "output_type": "stream",
     "text": [
      "2023-08-16 15:49:04,944:DEBUG:urllib3.connectionpool: Starting new HTTPS connection (1): huggingface.co:443\n",
      "2023-08-16 15:49:05,006:DEBUG:urllib3.connectionpool: https://huggingface.co:443 \"GET /stanfordnlp/stanza-en/resolve/v1.5.0/models/depparse/mimic.pt HTTP/1.1\" 302 978\n",
      "2023-08-16 15:49:05,009:DEBUG:urllib3.connectionpool: Starting new HTTPS connection (1): cdn-lfs.huggingface.co:443\n",
      "2023-08-16 15:49:05,293:DEBUG:urllib3.connectionpool: https://cdn-lfs.huggingface.co:443 \"GET /stanfordnlp/stanza-en/e584b665b48204620e57d0feae3add96c0d4ed1c4048ac4538033efe7a885cb7?response-content-disposition=attachment%3B+filename*%3DUTF-8%27%27mimic.pt%3B+filename%3D%22mimic.pt%22%3B&Expires=1692457843&Policy=eyJTdGF0ZW1lbnQiOlt7IkNvbmRpdGlvbiI6eyJEYXRlTGVzc1RoYW4iOnsiQVdTOkVwb2NoVGltZSI6MTY5MjQ1Nzg0M319LCJSZXNvdXJjZSI6Imh0dHBzOi8vY2RuLWxmcy5odWdnaW5nZmFjZS5jby9zdGFuZm9yZG5scC9zdGFuemEtZW4vZTU4NGI2NjViNDgyMDQ2MjBlNTdkMGZlYWUzYWRkOTZjMGQ0ZWQxYzQwNDhhYzQ1MzgwMzNlZmU3YTg4NWNiNz9yZXNwb25zZS1jb250ZW50LWRpc3Bvc2l0aW9uPSoifV19&Signature=k-Qpk1zXmmKijCwbSMfT4jYqmxhXHgy4rDt2NPh1TeP36JneB-l7cMnpW5fdtfcgr0PJ5pmwbt8~jhyehwjqOD3Ud6rhi5YGLzvRtrgQzaB5TkN7ooFxJVIdbQUaI8GzCMnmNgt2xCi-SBKKqPBYjIliL52PBeTKQ~zws3Ut1fpOCxV4laeEp-r8KLjV9dGKIlK2vp1IF11auEha7vdX-4CB9s~MC3z3j9JZIkDa4dtS1fwdZgpl-pEjRSOA6zrIDL4Q6IqFohPi2jPZUnY-rgFGZCwSp~qv701mN6aSnqmQF57IvUTl1b6svqzsrMHgRK0sClfhSuomDXV06WtDuA__&Key-Pair-Id=KVTP0A1DKRTAX HTTP/1.1\" 200 145840466\n"
     ]
    },
    {
     "data": {
      "application/vnd.jupyter.widget-view+json": {
       "model_id": "3fe8b760659940bc9f7d4f508543c6df",
       "version_major": 2,
       "version_minor": 0
      },
      "text/plain": [
       "Downloading https://huggingface.co/stanfordnlp/stanza-en/resolve/v1.5.0/models/depparse/mimic.pt:   0%|       …"
      ]
     },
     "metadata": {},
     "output_type": "display_data"
    },
    {
     "name": "stderr",
     "output_type": "stream",
     "text": [
      "2023-08-16 15:49:08,614:DEBUG:urllib3.connectionpool: Starting new HTTPS connection (1): huggingface.co:443\n",
      "2023-08-16 15:49:08,672:DEBUG:urllib3.connectionpool: https://huggingface.co:443 \"GET /stanfordnlp/stanza-en/resolve/v1.5.0/models/ner/i2b2.pt HTTP/1.1\" 302 970\n",
      "2023-08-16 15:49:08,681:DEBUG:urllib3.connectionpool: Starting new HTTPS connection (1): cdn-lfs.huggingface.co:443\n",
      "2023-08-16 15:49:08,938:DEBUG:urllib3.connectionpool: https://cdn-lfs.huggingface.co:443 \"GET /stanfordnlp/stanza-en/1ece0c23ec63ae6d35b6e5d5dade494fe7f5255ae05e6b7e148c616fbfe435a7?response-content-disposition=attachment%3B+filename*%3DUTF-8%27%27i2b2.pt%3B+filename%3D%22i2b2.pt%22%3B&Expires=1692457863&Policy=eyJTdGF0ZW1lbnQiOlt7IkNvbmRpdGlvbiI6eyJEYXRlTGVzc1RoYW4iOnsiQVdTOkVwb2NoVGltZSI6MTY5MjQ1Nzg2M319LCJSZXNvdXJjZSI6Imh0dHBzOi8vY2RuLWxmcy5odWdnaW5nZmFjZS5jby9zdGFuZm9yZG5scC9zdGFuemEtZW4vMWVjZTBjMjNlYzYzYWU2ZDM1YjZlNWQ1ZGFkZTQ5NGZlN2Y1MjU1YWUwNWU2YjdlMTQ4YzYxNmZiZmU0MzVhNz9yZXNwb25zZS1jb250ZW50LWRpc3Bvc2l0aW9uPSoifV19&Signature=KB4VkatZTN0VYTt53lrp1-yUSGWZfGyq-yupU2tSxx3tMvo0nlaqdQ2EF3Toz~62TEO8l8EpSRY9ibaBaVZA5HxydbTCtmuybDvdWraaPq-gIIyBggAQTfKmif7XFDhaHe5YCWGQ3TWeB-ascStiBR9VRP5Lk8OhAWeYaLzDpBGbDp-DZH4mMS-gi74hqggCBQehDpUr2Rp1ZLKplM2nllsmrrd5NoKk5k3W8dsrhrFkwwZ0dgLwKfdBFLOBbV19SP3P3LmYmjOXKwXo61rYMHVbALTvqiRwaawbBIrA0-HS6evaY6MhL9wZj42J0qd-RiS-p3oPsOECkwIhK1Bmgg__&Key-Pair-Id=KVTP0A1DKRTAX HTTP/1.1\" 200 49830818\n"
     ]
    },
    {
     "data": {
      "application/vnd.jupyter.widget-view+json": {
       "model_id": "4fb630b9d0d84456b771de1f99e5bf20",
       "version_major": 2,
       "version_minor": 0
      },
      "text/plain": [
       "Downloading https://huggingface.co/stanfordnlp/stanza-en/resolve/v1.5.0/models/ner/i2b2.pt:   0%|          | 0…"
      ]
     },
     "metadata": {},
     "output_type": "display_data"
    },
    {
     "name": "stderr",
     "output_type": "stream",
     "text": [
      "2023-08-16 15:49:09,649:DEBUG:urllib3.connectionpool: Starting new HTTPS connection (1): huggingface.co:443\n",
      "2023-08-16 15:49:09,696:DEBUG:urllib3.connectionpool: https://huggingface.co:443 \"GET /stanfordnlp/stanza-en/resolve/v1.5.0/models/pretrain/mimic.pt HTTP/1.1\" 302 974\n",
      "2023-08-16 15:49:09,701:DEBUG:urllib3.connectionpool: Starting new HTTPS connection (1): cdn-lfs.huggingface.co:443\n",
      "2023-08-16 15:49:09,729:DEBUG:urllib3.connectionpool: https://cdn-lfs.huggingface.co:443 \"GET /stanfordnlp/stanza-en/77d7ca93d2df389b12d506610f54f086c1caa9835c4e565c0a1444cf7acca9bd?response-content-disposition=attachment%3B+filename*%3DUTF-8%27%27mimic.pt%3B+filename%3D%22mimic.pt%22%3B&Expires=1692458557&Policy=eyJTdGF0ZW1lbnQiOlt7IkNvbmRpdGlvbiI6eyJEYXRlTGVzc1RoYW4iOnsiQVdTOkVwb2NoVGltZSI6MTY5MjQ1ODU1N319LCJSZXNvdXJjZSI6Imh0dHBzOi8vY2RuLWxmcy5odWdnaW5nZmFjZS5jby9zdGFuZm9yZG5scC9zdGFuemEtZW4vNzdkN2NhOTNkMmRmMzg5YjEyZDUwNjYxMGY1NGYwODZjMWNhYTk4MzVjNGU1NjVjMGExNDQ0Y2Y3YWNjYTliZD9yZXNwb25zZS1jb250ZW50LWRpc3Bvc2l0aW9uPSoifV19&Signature=0Sm-fOUzdQiZCdJi4Ym31zhvaNR3vIGMVzAU8t2~S3Ra-S3Ir8V8cfcPE7dIQX8L3RcuvRc9VB6GvpsDagRHqI8wYjGersPkq85Y9rbxaivh2otejbcyZvNNzUlhXmFBi21PZLZepZaPDCP2sqVCZQkwPfVI9qyOgVCaeTaqM0LtkhoDIXBL0c-F90jaRP7WpQgbOr7ud9BugngpCpYMd-bmXS9ryUKKcpYrt8j0e-4bw6pGL5psV4l9AqpWvhqe6~hrU31wylZ11vJ2Ys-qccXJolbo3ipKSJArJHbDgcfyTm64lk-PZkkXTedWjA35UPKjG-Mp9hr4YciULJqR7w__&Key-Pair-Id=KVTP0A1DKRTAX HTTP/1.1\" 200 82696369\n"
     ]
    },
    {
     "data": {
      "application/vnd.jupyter.widget-view+json": {
       "model_id": "6660a7a1f5024bd69a18c503ac3523fc",
       "version_major": 2,
       "version_minor": 0
      },
      "text/plain": [
       "Downloading https://huggingface.co/stanfordnlp/stanza-en/resolve/v1.5.0/models/pretrain/mimic.pt:   0%|       …"
      ]
     },
     "metadata": {},
     "output_type": "display_data"
    },
    {
     "name": "stderr",
     "output_type": "stream",
     "text": [
      "2023-08-16 15:49:10,256:DEBUG:urllib3.connectionpool: Starting new HTTPS connection (1): huggingface.co:443\n",
      "2023-08-16 15:49:10,509:DEBUG:urllib3.connectionpool: https://huggingface.co:443 \"GET /stanfordnlp/stanza-en/resolve/v1.5.0/models/backward_charlm/mimic.pt HTTP/1.1\" 302 982\n",
      "2023-08-16 15:49:10,513:DEBUG:urllib3.connectionpool: Starting new HTTPS connection (1): cdn-lfs.huggingface.co:443\n",
      "2023-08-16 15:49:10,600:DEBUG:urllib3.connectionpool: https://cdn-lfs.huggingface.co:443 \"GET /stanfordnlp/stanza-en/cec9aca51f3e342100f76ba30a35d4f35c1b2b89ce4c2c00e2e0b4e2a0c5929f?response-content-disposition=attachment%3B+filename*%3DUTF-8%27%27mimic.pt%3B+filename%3D%22mimic.pt%22%3B&Expires=1692459193&Policy=eyJTdGF0ZW1lbnQiOlt7IkNvbmRpdGlvbiI6eyJEYXRlTGVzc1RoYW4iOnsiQVdTOkVwb2NoVGltZSI6MTY5MjQ1OTE5M319LCJSZXNvdXJjZSI6Imh0dHBzOi8vY2RuLWxmcy5odWdnaW5nZmFjZS5jby9zdGFuZm9yZG5scC9zdGFuemEtZW4vY2VjOWFjYTUxZjNlMzQyMTAwZjc2YmEzMGEzNWQ0ZjM1YzFiMmI4OWNlNGMyYzAwZTJlMGI0ZTJhMGM1OTI5Zj9yZXNwb25zZS1jb250ZW50LWRpc3Bvc2l0aW9uPSoifV19&Signature=TxJ7iN86uCM6JHKZNYHDN~KhyqWaPxJe4i6HE9fhfC-InXtWUwka01rjp41b9g957rKhI-Kr0V0pl-PrlwlEjUQwVAWdh5lZKOky4jCWBVgLy-mrnh~0SQXm~yjgcCdd-f6NqethNUodVl1hOy9~~wqAYMdvywwpH0N1MUDJ0SVNd9xVKvM2VolWQ11zwgNbq-Wv9tLNJFAeFn9kyOElHi1nz4g5H3rmhKYeHSh-7XxBupQTJwYHUiJNIwif-9kZHuYZuACGEUieZO6xMVVluh98~-PkL48ULnk7QsIM8Kei4QKzLICiEY6rOlcBuN8YaxF8zparUCF11AD5GhmEvw__&Key-Pair-Id=KVTP0A1DKRTAX HTTP/1.1\" 200 18914851\n"
     ]
    },
    {
     "data": {
      "application/vnd.jupyter.widget-view+json": {
       "model_id": "297baf7ee487467d89ab171a11caa875",
       "version_major": 2,
       "version_minor": 0
      },
      "text/plain": [
       "Downloading https://huggingface.co/stanfordnlp/stanza-en/resolve/v1.5.0/models/backward_charlm/mimic.pt:   0%|…"
      ]
     },
     "metadata": {},
     "output_type": "display_data"
    },
    {
     "name": "stderr",
     "output_type": "stream",
     "text": [
      "2023-08-16 15:49:10,744:DEBUG:urllib3.connectionpool: Starting new HTTPS connection (1): huggingface.co:443\n",
      "2023-08-16 15:49:10,794:DEBUG:urllib3.connectionpool: https://huggingface.co:443 \"GET /stanfordnlp/stanza-en/resolve/v1.5.0/models/forward_charlm/mimic.pt HTTP/1.1\" 302 984\n",
      "2023-08-16 15:49:10,800:DEBUG:urllib3.connectionpool: Starting new HTTPS connection (1): cdn-lfs.huggingface.co:443\n",
      "2023-08-16 15:49:10,900:DEBUG:urllib3.connectionpool: https://cdn-lfs.huggingface.co:443 \"GET /stanfordnlp/stanza-en/cd0a3dd02826c7f4419ec103d820840ea56360ae9cac4faf3061989bc0abdf89?response-content-disposition=attachment%3B+filename*%3DUTF-8%27%27mimic.pt%3B+filename%3D%22mimic.pt%22%3B&Expires=1692458194&Policy=eyJTdGF0ZW1lbnQiOlt7IkNvbmRpdGlvbiI6eyJEYXRlTGVzc1RoYW4iOnsiQVdTOkVwb2NoVGltZSI6MTY5MjQ1ODE5NH19LCJSZXNvdXJjZSI6Imh0dHBzOi8vY2RuLWxmcy5odWdnaW5nZmFjZS5jby9zdGFuZm9yZG5scC9zdGFuemEtZW4vY2QwYTNkZDAyODI2YzdmNDQxOWVjMTAzZDgyMDg0MGVhNTYzNjBhZTljYWM0ZmFmMzA2MTk4OWJjMGFiZGY4OT9yZXNwb25zZS1jb250ZW50LWRpc3Bvc2l0aW9uPSoifV19&Signature=CYyfDxQ~sHE1V9Puiu4k9GghTzKf3TFso5WARLIUFFGdB7TEUVfbMkPqT4E88q0lduDNBRw1tVSQWz5EZ3v9GZwcjt4a4Sa9SpnudElAr-Yufx8K3RSiz3iI1xRPaq43mW-7vFEvWwixBQUBSjtgiiDHW5FepW2j~yyq5018n4r3-t8Hykyymn9faq34ItKzklrOLa3y5nTveBzV-D~IVsTFeG4cjHBFUeF~PhNkitzMkNGODBxg-7ttY~-Ajf-mYDaZaDmZ-oA5RVUDpS~QtrdRrS6hhzib93zAQdPjrDBsoO30NIhK1aWUmjEJ-k3Aq9MEiO0wHdZFI6~-zwbieQ__&Key-Pair-Id=KVTP0A1DKRTAX HTTP/1.1\" 200 18914850\n"
     ]
    },
    {
     "data": {
      "application/vnd.jupyter.widget-view+json": {
       "model_id": "18b93b2948a04466938a514c803e8eb6",
       "version_major": 2,
       "version_minor": 0
      },
      "text/plain": [
       "Downloading https://huggingface.co/stanfordnlp/stanza-en/resolve/v1.5.0/models/forward_charlm/mimic.pt:   0%| …"
      ]
     },
     "metadata": {},
     "output_type": "display_data"
    },
    {
     "name": "stderr",
     "output_type": "stream",
     "text": [
      "2023-08-16 15:49:11 INFO: Finished downloading models and saved to /root/stanza_resources.\n",
      "2023-08-16 15:49:11,038:INFO:stanza: Finished downloading models and saved to /root/stanza_resources.\n"
     ]
    }
   ],
   "source": [
    "from utils import *"
   ]
  },
  {
   "cell_type": "code",
   "execution_count": 19,
   "id": "c4b6d77b-6b22-4f58-a63b-2b4e94015eb2",
   "metadata": {},
   "outputs": [],
   "source": [
    "def get_sample_criteria():\n",
    "    df = pd.read_csv(\"test.csv\", dtype={'#ncd_id':str, 'title':str, 'has_us_facility':bool, 'conditions': str, 'eligibility_criteria': str, 'gender':str, 'minimum_age':str, 'maximum_age':str})\n",
    "    df = df.fillna(value={\"#ncd_id\":\"-1\", \"title\":\"\", \"conditions\":\"\", \"eligibility_criteria\":\"\", \"gender\": \"all\", \"minimum_age\": \"0 Years\", \"maximum_age\": \"200 Years\"})\n",
    "    df = df.iloc[:first_n_trials]\n",
    "\n",
    "    eligibility_criteria_list = []\n",
    "\n",
    "    for idx, row in df.iterrows():\n",
    "        criteria_sent = find_exclusion_inclusion(row.eligibility_criteria.split('\\r\\n'))\n",
    "        eligibility_criteria_list.append(combine_sentences(criteria_sent))\n",
    "    for idx, criteria in enumerate(eligibility_criteria_list):\n",
    "        if len(criteria)==2:\n",
    "            yield {\"inclusion\": criteria[0], \"exclusion\": criteria[1], 'ncd_id': df.iloc[idx]['#ncd_id']}\n",
    "        elif len(criteria)==1:\n",
    "            yield {\"inclusion\": criteria[0], \"exclusion\": [], 'ncd_id': df.iloc[idx]['#ncd_id']}\n",
    "        else:\n",
    "            raise Exception(\"No criteria found in index: \"+str(idx)) "
   ]
  },
  {
   "cell_type": "code",
   "execution_count": 23,
   "id": "f316a5d0-faaf-479a-a747-ab813d33e923",
   "metadata": {},
   "outputs": [],
   "source": [
    "sample = get_sample_criteria()"
   ]
  },
  {
   "cell_type": "code",
   "execution_count": 24,
   "id": "82358478-8b88-4c54-b0eb-3ee3b045452d",
   "metadata": {},
   "outputs": [
    {
     "name": "stdout",
     "output_type": "stream",
     "text": [
      "Ncd_id: NCT04617171\n",
      "Inclusion: ['Subjects with severe asthma exacerbation requiring hospital admission', 'Subjects aged 21 to 65 years with a physician diagnosis of asthma for greater than or equal to 1 year', 'Subjects with 2 or more exacerbations in the past 12 months', 'On maintenance of medium to high dose ICS/LABA (GINA Step 4 and 5) for at least 6 months', 'Blood Eosinophil count of ≥ 150 cells/microL at time of admission or ≥ 300 cells/microL documented over the past 52 weeks', 'Informed consent obtained']\n",
      "Exclusion: ['Subjects with asthma exacerbations who are treated and then discharged from ED within 24 hours', 'Subjects with a physician diagnosis of COPD, bronchiectasis', 'Smokers > 20 pack years', 'Anaphylactic/anaphylactoid reaction presenting with bronchospasm', 'Other known causes of eosinophilia besides asthma (e.g. parasitic infection)', 'Subjects who are deemed by investigators to have with life expectancy of < 12 months (any cause)', 'Subjects who are already on investigational drug or has been participating in another clinical study with an investigational product during the last 6 months', 'Female subjects who are pregnant or planning pregnancy. All subjects should refrain from family planning during and 4 months following the last dose. Male subjects should refrain from fathering a child or donating sperm during the study and 4 months following the last dose', 'Subjects with known history of allergy or reaction to any component of the investigational product formation', 'Subjects with history of primary immunodeficiency', 'Subjects who have received Xolair (anti-IgE mAb) within 4 months before randomization', 'Subjects who receive immunoglobulin or blood products within 30 days before randomization ']\n",
      "Ncd_id: NCT04615195\n",
      "Inclusion: ['Binomial of child (aged between 8 and 15) and one of its holders of parental authority agreeing to participate']\n",
      "Exclusion: ['children aged under 8 and over 15', 'children whose parents are opposed', 'children refusing to participate', 'holders of minor parental authority ']\n",
      "Ncd_id: NCT04611620\n",
      "Inclusion: ['Inclusion Criteria for Breast cancer survivors Female BCS', 'Inclusion Criteria for Breast cancer survivors ≥ 21 years of age and older', 'Inclusion Criteria for Breast cancer survivors Ability to provide written consent and HIPAA authorization', 'Inclusion Criteria for Breast cancer survivors ≥6 months post-adjuvant therapy and neo-adjuvant therapy for early stage (Stage I-IIIA) breast cancer Current Aromatase Inhibitors or Tamoxifen treatment at time of enrollment is allowed.', 'Inclusion Criteria for Breast cancer survivors Identify cognitive concerns (select yes)', 'Inclusion Criteria for Colorectal cancer survivors Male or female CRC survivors', 'Inclusion Criteria for Colorectal cancer survivors Ability to provide written consent and HIPAA authorization', 'Inclusion Criteria for Colorectal cancer survivors ≥ 21 years of age and older', 'Inclusion Criteria for Colorectal cancer survivors ≥6 months post-adjuvant therapy and neo-adjuvant therapy for early stage (stage I-III) CRC', 'Inclusion Criteria for Colorectal cancer survivors:', 'Inclusion Criteria for Colorectal cancer survivors Identify cognitive concerns (select yes)']\n",
      "Exclusion: ['1. Report metastatic breast or colorectal cancer (Stage IV) at time of consenting.', '2. Unable to read and understand English to complete survey questionnaires. ']\n",
      "Ncd_id: NCT04616261\n",
      "Inclusion: ['18 to 45 years of age', 'Trained individuals with a maximal oxygen uptake above 55 ml/min/kg', 'Body mass index lower than 26']\n",
      "Exclusion: ['Allergy towards study drug', 'Unacceptable side effects to the study drug', 'Chronic disease deemed by the MD to interfere with the study', 'Smoking', 'Use of prescription medicine ']\n",
      "Ncd_id: NCT04618185\n",
      "Inclusion: ['Age 12 - 60 years', 'Capacity to consent, or to understand the requirements of the study where parental consent is needed.', 'Confirmed diagnosis of CF, either by sweat test or genetic testing.', 'Genotype homozygous p.Phe508del or compound heterozygous with at least 1 copy of p.Phe508del.', 'Eligible for KaftrioTM (Elexacaftor / Tezacaftor / Ivacaftor) treatment but not yet commenced Kaftrio treatment as part of routine care.']\n",
      "Exclusion: ['Contra-indication to MRI scanning, such as embedded metal, pacemaker.', 'FEV1 < 40% (% predicted using Global Lung Initiative values)', 'Unable to stop medications directly prescribed to alter bowel habit, such as laxatives of anti-diarrhoeals, on the study day', 'Previous resection of small bowel >20cm in length', 'Intestinal stoma', 'Diagnosis of inflammatory bowel disease or coeliac disease, confirmed by biopsy', 'Gastrointestinal malignancy', 'Unable to comply with dietary restrictions required for the study', 'Pregnancy - tests are available at the SPMIC if participants are unsure', 'Unable to speak or understand English ']\n",
      "Ncd_id: NCT04612582\n",
      "Inclusion: ['1.Signed the written informed consent; 2.18 years old ≤ age ≤ 80 years old, no restriction on gender; 3.AL amyloidosis was confirmed by pathological biopsy in the accumulated system or organ (kidney, heart, liver, skin), and excluded other secondary factors; 4.The proliferation of monoclonal plasma cells was confirmed by fixed electrophoresis of bone marrow or blood/urine.']\n",
      "Exclusion: ['1. Pathological biopsy showed non-AL amyloidosis;', '2. Abnormal proliferation of plasma cells reached the standard of multiple myeloma；', '3. Other hematological system tumors;', \"4. Cushing's syndrome;\", '5. Active hepatitis;', '5.Pregnant or lactating women; ']\n",
      "Ncd_id: NCT04611841\n",
      "Inclusion: ['Age over 18 and under 75 years old', 'COVID-19 diagnosis confirmed by PCR test', 'Written consent to participate in the study']\n",
      "Exclusion: ['Unwillingness or inability to give written informed consent to participate in the study', 'A serious condition with a threat to life or contraindications that prevent the collection of biomaterial', 'Oncological diseases outside the stage of remission ']\n",
      "Ncd_id: NCT04615832\n",
      "Inclusion: ['Persons who are ≥ 22 years of age', 'Persons who weigh ≥ 66 lbs (30 kgs)', 'Persons who have been prescribed PAP (APAP, BPAP or CPAP) therapy by a physician', 'Persons who are compliant with PAP therapy for ≥ 4 hours per night for 70% of nights for at least two weeks prior to enrolment in the trial', 'Persons who are currently using a full face mask', 'Persons who have an IPAP pressure of < 30 cmH2O', 'Persons who currently use a PAP therapy device with data recording capabilities', 'Persons who are fluent in spoken and written English', 'Persons who possess the capacity to provide informed consent']\n",
      "Exclusion: ['Persons who are intolerant to PAP therapy', 'Persons who are required to use PAP therapy for more than 12 hours per day or for extensive periods other than sleep or naps', 'Persons using nasal or nasal pillows masks', 'Persons who possess, or suffer from, anatomical or physiological conditions which make PAP therapy inappropriate', 'Persons who are pregnant or think they may be pregnant', 'Persons who use a PAP therapy machine for the delivery of medicines, except supplemental O2', 'Persons who currently have cold or flu like symptoms at the time of recruitment', 'Persons who have tested positive for COVID-19 within the previous 28 days prior to enrolment ']\n",
      "Ncd_id: NCT04617691\n",
      "Inclusion: [\"Be healthy on the basis of physical examination, medical history, vital signs and electrocardiogram (ECG) performed at screening. Any abnormalities must be considered not clinically significant and this determination must be recorded in the participant's source documents and initialed by the investigator\", \"Be healthy on the basis of clinical laboratory tests performed at screening. If the results of the serum chemistry panel, hematology, or urinalysis are outside the normal reference ranges, the participant may be included only if the investigator judges the abnormalities or deviations from normal to be not clinically significant. This determination must be recorded in the participant's source documents and initialed by the investigator\", 'A female participant must have a negative pregnancy test result at screening and baseline (Day -1) and while enrolled in this study', 'Must be a non-user or light user of tobacco products (not smoke more than 10 cigarettes or equivalent a day for at least 6 months prior to screening), including all nicotine use, example, cigarettes (including e-cigarettes or the equivalent of e-cigarettes), cigars, chewing tobacco, patch, gum', 'Participant is considered eligible according to the following tuberculosis (TB) screening criteria: (a) have no history of latent or active TB before screening; (b) have no signs or symptoms suggestive of active TB upon medical history and/or physical examination; (c) have had no recent close contact with a person with active TB; (d) have a negative QuantiFERON-TB test result within 28 days prior to the administration of study intervention']\n",
      "Exclusion: ['History of any clinically significant medical illness or medical disorders the investigator considers should exclude the participant, including (but not limited to), neuromuscular, hematological disease, immune deficiency state, respiratory disease, hepatic or gastrointestinal disease, neurological or psychiatric disease, ophthalmological disorders, neoplastic disease, renal or urinary tract diseases, or dermatological disease', 'History of malignancy before screening (exceptions are squamous and basal cell carcinomas of the skin and carcinoma in situ of the cervix, or malignancy, which is considered cured with minimal risk of recurrence)', 'Has a current chronic infection, prior history of recurrent infection, or an active infection', 'Received any systemic immunosuppressant agent (other than a short course of corticosteroids for minor inflammatory conditions) within 6 months before and during screening and administration of study intervention', 'Has a positive urine drug or alcohol screen during screening or at admission (Day -1) ']\n",
      "Ncd_id: NCT04616612\n",
      "Inclusion: ['age > 18 years', 'prescribed at least 1 daily RAAS inhibiting medication', 'CKD diagnosis estimated glomerular filtration rate (eGFR) category G1 to G4', 'RAAS inhibiting medication adherence of <.85 documented during the screening phase', 'proteinuria defined as a urine Protein-to-Creatinine ratio > 150 mg/g or urine Albumin-to-Creatinine ratio >30mg/g', 'able to speak, hear, and understand English determined by the ability to participate and comprehend conversation about potential inclusion in the study', 'self-reported ability to open a pill cap', 'able to self-administer RAAS inhibiting medications', 'willing to use a study phone', 'has no cognitive impairment as determined by a score of 4 or greater on the 6-item Telephone Mental Status Screen Derived from the Mini-Mental Status Exam (cognitive screener)', 'has no other diagnoses that may shorten life span, such as metastatic cancer', 'is not currently hospitalized', 'receives care through two approved health care systems']\n",
      "Exclusion: ['Participants with kidney failure defined by GFR <15 mL/min/1.73', 'Participants will be excluded if they are receiving dialysis or have dialysis access placed (e.g. graft or arteriovenous fistula) in anticipation of starting dialysis.', 'Kidney and kidney-pancreas transplant recipients will be excluded. ']\n"
     ]
    }
   ],
   "source": [
    "for i in sample:\n",
    "    ncd_id = i['ncd_id']\n",
    "    inclusion_criteria = i['inclusion']\n",
    "    exclusion_criteria = i['exclusion']\n",
    "    print(\"Ncd_id: \"+ str(ncd_id))\n",
    "    print(\"Inclusion: \"+ str(inclusion_criteria))\n",
    "    print(\"Exclusion: \"+ str(exclusion_criteria))\n",
    "    "
   ]
  },
  {
   "cell_type": "code",
   "execution_count": null,
   "id": "fa8b02e6-091f-4f70-b593-703bffb4a746",
   "metadata": {},
   "outputs": [],
   "source": []
  }
 ],
 "metadata": {
  "kernelspec": {
   "display_name": "Python 3 (ipykernel)",
   "language": "python",
   "name": "python3"
  },
  "language_info": {
   "codemirror_mode": {
    "name": "ipython",
    "version": 3
   },
   "file_extension": ".py",
   "mimetype": "text/x-python",
   "name": "python",
   "nbconvert_exporter": "python",
   "pygments_lexer": "ipython3",
   "version": "3.9.16"
  }
 },
 "nbformat": 4,
 "nbformat_minor": 5
}
